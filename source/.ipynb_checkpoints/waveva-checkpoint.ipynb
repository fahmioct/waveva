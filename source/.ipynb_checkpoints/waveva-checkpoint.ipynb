{
 "cells": [
  {
   "cell_type": "code",
   "execution_count": 1,
   "id": "f8acd40f",
   "metadata": {
    "executionInfo": {
     "elapsed": 301,
     "status": "ok",
     "timestamp": 1630765453455,
     "user": {
      "displayName": "Fahmi Octavialdo",
      "photoUrl": "https://lh3.googleusercontent.com/a-/AOh14GiAVMQWYWof3yDAHuqkKx5aNAO7QH_90O63FHQveA=s64",
      "userId": "10867206776914130241"
     },
     "user_tz": -420
    },
    "id": "fd743b12-f517-4572-9b65-fc499f2b8e4a"
   },
   "outputs": [],
   "source": [
    "import numpy as np\n",
    "import pandas as pd\n",
    "# from pathlib import Path\n",
    "import glob\n",
    "from pyextremes import EVA"
   ]
  },
  {
   "cell_type": "code",
   "execution_count": 2,
   "id": "41345a36",
   "metadata": {
    "colab": {
     "base_uri": "https://localhost:8080/"
    },
    "executionInfo": {
     "elapsed": 21469,
     "status": "ok",
     "timestamp": 1630765414382,
     "user": {
      "displayName": "Fahmi Octavialdo",
      "photoUrl": "https://lh3.googleusercontent.com/a-/AOh14GiAVMQWYWof3yDAHuqkKx5aNAO7QH_90O63FHQveA=s64",
      "userId": "10867206776914130241"
     },
     "user_tz": -420
    },
    "id": "K4tdcrbFMOZv",
    "outputId": "8d70555b-f9ec-482c-b4bb-5de788dbed3c"
   },
   "outputs": [],
   "source": [
    "# from google.colab import drive\n",
    "# drive.mount('/content/drive')"
   ]
  },
  {
   "cell_type": "code",
   "execution_count": 3,
   "id": "8357db1e",
   "metadata": {
    "colab": {
     "base_uri": "https://localhost:8080/"
    },
    "executionInfo": {
     "elapsed": 864,
     "status": "ok",
     "timestamp": 1630766220627,
     "user": {
      "displayName": "Fahmi Octavialdo",
      "photoUrl": "https://lh3.googleusercontent.com/a-/AOh14GiAVMQWYWof3yDAHuqkKx5aNAO7QH_90O63FHQveA=s64",
      "userId": "10867206776914130241"
     },
     "user_tz": -420
    },
    "id": "41710b1a-302a-410b-a877-4c2082359add",
    "outputId": "124ccb2f-656d-4539-a268-7459d9368523"
   },
   "outputs": [],
   "source": [
    "# df = pd.read_csv(Path(\"/home/hoream/Documents/waveva/sample/*.txt\")\n",
    "# df = pd.read_csv(\"\\*.txt\")\n",
    "\n",
    "path = r'/home/hoream/Documents/waveva/sample/'\n",
    "# path = r'/sample/'\n",
    "all_files = glob.glob(path+'*.txt')\n",
    "# all_files = glob.glob(/sample/*.txt)\n",
    "# all_files = glob.glob('/content/drive/MyDrive/Colab Notebooks/*.txt')\n",
    "# all_files=all_files[::-1]\n",
    "all_files = pd.Series(all_files).sort_values(ascending=True, ignore_index=True).to_list()\n",
    "\n",
    "li = []\n",
    "for filename in all_files:\n",
    "    df=pd.read_csv(filename, sep=\"\\t\", low_memory=False)\n",
    "    li.append(df)\n",
    "\n",
    "frame = pd.concat(li, axis=0, ignore_index=True)"
   ]
  },
  {
   "cell_type": "code",
   "execution_count": 4,
   "id": "fa1529f0",
   "metadata": {
    "colab": {
     "base_uri": "https://localhost:8080/",
     "height": 643
    },
    "executionInfo": {
     "elapsed": 400,
     "status": "ok",
     "timestamp": 1630766224231,
     "user": {
      "displayName": "Fahmi Octavialdo",
      "photoUrl": "https://lh3.googleusercontent.com/a-/AOh14GiAVMQWYWof3yDAHuqkKx5aNAO7QH_90O63FHQveA=s64",
      "userId": "10867206776914130241"
     },
     "user_tz": -420
    },
    "id": "a428e408-0baf-4214-84cc-3f058bfd5b99",
    "outputId": "1deb09f3-8ed5-4ac3-eb66-59f0dd6e0b6d"
   },
   "outputs": [
    {
     "data": {
      "text/plain": [
       "['/home/hoream/Documents/waveva/sample/data_from_wave_2001-2004.txt',\n",
       " '/home/hoream/Documents/waveva/sample/data_from_wave_2005-2008.txt',\n",
       " '/home/hoream/Documents/waveva/sample/data_from_wave_2009-2012.txt',\n",
       " '/home/hoream/Documents/waveva/sample/data_from_wave_2013-2016.txt',\n",
       " '/home/hoream/Documents/waveva/sample/data_from_wave_2017-2020.txt']"
      ]
     },
     "execution_count": 4,
     "metadata": {},
     "output_type": "execute_result"
    }
   ],
   "source": [
    "all_files"
   ]
  },
  {
   "cell_type": "code",
   "execution_count": 5,
   "id": "87826f5f",
   "metadata": {
    "executionInfo": {
     "elapsed": 315,
     "status": "ok",
     "timestamp": 1630767178424,
     "user": {
      "displayName": "Fahmi Octavialdo",
      "photoUrl": "https://lh3.googleusercontent.com/a-/AOh14GiAVMQWYWof3yDAHuqkKx5aNAO7QH_90O63FHQveA=s64",
      "userId": "10867206776914130241"
     },
     "user_tz": -420
    },
    "id": "ef3fcf00-e569-49d5-bb6e-c0154d1125ee"
   },
   "outputs": [],
   "source": [
    "frame.drop(frame.columns[[0,1,2,3,4,5,7,8,9,10,11,13,15,17,18]], axis=1, inplace=True)\n",
    "# frame.drop(frame.columns[1:6], axis=1, inplace=True)\n",
    "# frame.drop(frame.columns[[2,4,6,7]], axis=1, inplace=True)"
   ]
  },
  {
   "cell_type": "code",
   "execution_count": 6,
   "id": "5749008e",
   "metadata": {
    "colab": {
     "base_uri": "https://localhost:8080/",
     "height": 419
    },
    "executionInfo": {
     "elapsed": 414,
     "status": "ok",
     "timestamp": 1630767194343,
     "user": {
      "displayName": "Fahmi Octavialdo",
      "photoUrl": "https://lh3.googleusercontent.com/a-/AOh14GiAVMQWYWof3yDAHuqkKx5aNAO7QH_90O63FHQveA=s64",
      "userId": "10867206776914130241"
     },
     "user_tz": -420
    },
    "id": "0JEwQJBSM3e4",
    "outputId": "45b44eed-f120-44cf-b9b2-a1131b7956ae"
   },
   "outputs": [
    {
     "data": {
      "text/html": [
       "<div>\n",
       "<style scoped>\n",
       "    .dataframe tbody tr th:only-of-type {\n",
       "        vertical-align: middle;\n",
       "    }\n",
       "\n",
       "    .dataframe tbody tr th {\n",
       "        vertical-align: top;\n",
       "    }\n",
       "\n",
       "    .dataframe thead th {\n",
       "        text-align: right;\n",
       "    }\n",
       "</style>\n",
       "<table border=\"1\" class=\"dataframe\">\n",
       "  <thead>\n",
       "    <tr style=\"text-align: right;\">\n",
       "      <th></th>\n",
       "      <th>time_ISO8601</th>\n",
       "      <th>mwd [Degree true]</th>\n",
       "      <th>pp1d [s]</th>\n",
       "      <th>swh [m]</th>\n",
       "    </tr>\n",
       "  </thead>\n",
       "  <tbody>\n",
       "    <tr>\n",
       "      <th>0</th>\n",
       "      <td>2001-01-01T00:00:00</td>\n",
       "      <td>291.124</td>\n",
       "      <td>2.936</td>\n",
       "      <td>0.178</td>\n",
       "    </tr>\n",
       "    <tr>\n",
       "      <th>1</th>\n",
       "      <td>2001-01-01T01:00:00</td>\n",
       "      <td>295.631</td>\n",
       "      <td>2.955</td>\n",
       "      <td>0.176</td>\n",
       "    </tr>\n",
       "    <tr>\n",
       "      <th>2</th>\n",
       "      <td>2001-01-01T02:00:00</td>\n",
       "      <td>300.143</td>\n",
       "      <td>2.973</td>\n",
       "      <td>0.173</td>\n",
       "    </tr>\n",
       "    <tr>\n",
       "      <th>3</th>\n",
       "      <td>2001-01-01T03:00:00</td>\n",
       "      <td>306.027</td>\n",
       "      <td>2.990</td>\n",
       "      <td>0.178</td>\n",
       "    </tr>\n",
       "    <tr>\n",
       "      <th>4</th>\n",
       "      <td>2001-01-01T04:00:00</td>\n",
       "      <td>320.107</td>\n",
       "      <td>2.995</td>\n",
       "      <td>0.193</td>\n",
       "    </tr>\n",
       "    <tr>\n",
       "      <th>...</th>\n",
       "      <td>...</td>\n",
       "      <td>...</td>\n",
       "      <td>...</td>\n",
       "      <td>...</td>\n",
       "    </tr>\n",
       "    <tr>\n",
       "      <th>175315</th>\n",
       "      <td>2020-12-31T19:00:00</td>\n",
       "      <td>297.444</td>\n",
       "      <td>5.137</td>\n",
       "      <td>0.707</td>\n",
       "    </tr>\n",
       "    <tr>\n",
       "      <th>175316</th>\n",
       "      <td>2020-12-31T20:00:00</td>\n",
       "      <td>298.075</td>\n",
       "      <td>5.150</td>\n",
       "      <td>0.694</td>\n",
       "    </tr>\n",
       "    <tr>\n",
       "      <th>175317</th>\n",
       "      <td>2020-12-31T21:00:00</td>\n",
       "      <td>298.553</td>\n",
       "      <td>5.182</td>\n",
       "      <td>0.687</td>\n",
       "    </tr>\n",
       "    <tr>\n",
       "      <th>175318</th>\n",
       "      <td>2020-12-31T22:00:00</td>\n",
       "      <td>298.916</td>\n",
       "      <td>5.192</td>\n",
       "      <td>0.675</td>\n",
       "    </tr>\n",
       "    <tr>\n",
       "      <th>175319</th>\n",
       "      <td>2020-12-31T23:00:00</td>\n",
       "      <td>298.806</td>\n",
       "      <td>5.199</td>\n",
       "      <td>0.673</td>\n",
       "    </tr>\n",
       "  </tbody>\n",
       "</table>\n",
       "<p>175320 rows × 4 columns</p>\n",
       "</div>"
      ],
      "text/plain": [
       "               time_ISO8601  mwd [Degree true]  pp1d [s]  swh [m]\n",
       "0       2001-01-01T00:00:00            291.124     2.936    0.178\n",
       "1       2001-01-01T01:00:00            295.631     2.955    0.176\n",
       "2       2001-01-01T02:00:00            300.143     2.973    0.173\n",
       "3       2001-01-01T03:00:00            306.027     2.990    0.178\n",
       "4       2001-01-01T04:00:00            320.107     2.995    0.193\n",
       "...                     ...                ...       ...      ...\n",
       "175315  2020-12-31T19:00:00            297.444     5.137    0.707\n",
       "175316  2020-12-31T20:00:00            298.075     5.150    0.694\n",
       "175317  2020-12-31T21:00:00            298.553     5.182    0.687\n",
       "175318  2020-12-31T22:00:00            298.916     5.192    0.675\n",
       "175319  2020-12-31T23:00:00            298.806     5.199    0.673\n",
       "\n",
       "[175320 rows x 4 columns]"
      ]
     },
     "execution_count": 6,
     "metadata": {},
     "output_type": "execute_result"
    }
   ],
   "source": [
    "frame"
   ]
  },
  {
   "cell_type": "code",
   "execution_count": 7,
   "id": "b5380a8f",
   "metadata": {
    "executionInfo": {
     "elapsed": 309,
     "status": "ok",
     "timestamp": 1630767434410,
     "user": {
      "displayName": "Fahmi Octavialdo",
      "photoUrl": "https://lh3.googleusercontent.com/a-/AOh14GiAVMQWYWof3yDAHuqkKx5aNAO7QH_90O63FHQveA=s64",
      "userId": "10867206776914130241"
     },
     "user_tz": -420
    },
    "id": "8d060cfa-3a28-4236-8558-1f7a76109318"
   },
   "outputs": [],
   "source": [
    "def degToCompass(num):\n",
    "    val=((num/22.5)+.5).astype(int)\n",
    "    arr=[\"N\",\"NNE\",\"NE\",\"ENE\",\"E\",\"ESE\", \"SE\", \"SSE\",\"S\",\"SSW\",\"SW\",\"WSW\",\"W\",\"WNW\",\"NW\",\"NNW\"]\n",
    "    komp = []\n",
    "    for x in val:\n",
    "      komp.append(str(arr[(x%16)]))\n",
    "    return np.asarray(komp)"
   ]
  },
  {
   "cell_type": "code",
   "execution_count": 8,
   "id": "f7244e95",
   "metadata": {
    "executionInfo": {
     "elapsed": 325,
     "status": "ok",
     "timestamp": 1630767436628,
     "user": {
      "displayName": "Fahmi Octavialdo",
      "photoUrl": "https://lh3.googleusercontent.com/a-/AOh14GiAVMQWYWof3yDAHuqkKx5aNAO7QH_90O63FHQveA=s64",
      "userId": "10867206776914130241"
     },
     "user_tz": -420
    },
    "id": "53742227-a633-48d5-a0ec-da6d295b4b47"
   },
   "outputs": [],
   "source": [
    "frame['compass'] = degToCompass(frame['mwd [Degree true]'].to_numpy())"
   ]
  },
  {
   "cell_type": "code",
   "execution_count": 9,
   "id": "d9d0616e",
   "metadata": {
    "colab": {
     "base_uri": "https://localhost:8080/"
    },
    "executionInfo": {
     "elapsed": 329,
     "status": "ok",
     "timestamp": 1630767532012,
     "user": {
      "displayName": "Fahmi Octavialdo",
      "photoUrl": "https://lh3.googleusercontent.com/a-/AOh14GiAVMQWYWof3yDAHuqkKx5aNAO7QH_90O63FHQveA=s64",
      "userId": "10867206776914130241"
     },
     "user_tz": -420
    },
    "id": "e8a3c638-e493-47df-a08e-6dadcbf4eec3",
    "outputId": "839d5fa1-3baf-4dd5-98b3-035b62108138"
   },
   "outputs": [
    {
     "data": {
      "text/plain": [
       "True"
      ]
     },
     "execution_count": 9,
     "metadata": {},
     "output_type": "execute_result"
    }
   ],
   "source": [
    "any(frame['compass']==\"NW\")"
   ]
  },
  {
   "cell_type": "code",
   "execution_count": 10,
   "id": "a872116e",
   "metadata": {
    "id": "WkLMn6yFghBH"
   },
   "outputs": [],
   "source": [
    "data = pd.Series(data=frame['swh [m]'].values,index=pd.to_datetime(frame['time_ISO8601']), name = 'swh [m]')"
   ]
  },
  {
   "cell_type": "code",
   "execution_count": 11,
   "id": "4929920f",
   "metadata": {},
   "outputs": [
    {
     "data": {
      "text/plain": [
       "time_ISO8601\n",
       "2001-01-01 00:00:00    0.178\n",
       "2001-01-01 01:00:00    0.176\n",
       "2001-01-01 02:00:00    0.173\n",
       "2001-01-01 03:00:00    0.178\n",
       "2001-01-01 04:00:00    0.193\n",
       "                       ...  \n",
       "2020-12-31 19:00:00    0.707\n",
       "2020-12-31 20:00:00    0.694\n",
       "2020-12-31 21:00:00    0.687\n",
       "2020-12-31 22:00:00    0.675\n",
       "2020-12-31 23:00:00    0.673\n",
       "Name: swh [m], Length: 175320, dtype: float64"
      ]
     },
     "execution_count": 11,
     "metadata": {},
     "output_type": "execute_result"
    }
   ],
   "source": [
    "data"
   ]
  },
  {
   "cell_type": "code",
   "execution_count": 12,
   "id": "fbbcd1ba",
   "metadata": {
    "id": "06b58625-abd4-455c-8c46-8cdfacf7af8d"
   },
   "outputs": [],
   "source": [
    "model = EVA(data=data)"
   ]
  },
  {
   "cell_type": "code",
   "execution_count": null,
   "id": "5d2bc3c1",
   "metadata": {},
   "outputs": [],
   "source": []
  },
  {
   "cell_type": "code",
   "execution_count": 13,
   "id": "aa781695",
   "metadata": {
    "id": "nLxaY1kxf6KY"
   },
   "outputs": [],
   "source": [
    "model.get_extremes(\n",
    "    method=\"BM\",\n",
    "    extremes_type=\"high\",\n",
    "    block_size=\"365.2425D\",\n",
    "    errors=\"raise\",\n",
    ")"
   ]
  },
  {
   "cell_type": "code",
   "execution_count": 14,
   "id": "0913a569",
   "metadata": {},
   "outputs": [
    {
     "data": {
      "text/plain": [
       "                           Univariate Extreme Value Analysis                            \n",
       "========================================================================================\n",
       "                                      Source Data                                       \n",
       "----------------------------------------------------------------------------------------\n",
       "Data label:                       swh [m]      Size:                             175,320\n",
       "Start:                       January 2001      End:                        December 2020\n",
       "========================================================================================\n",
       "                                     Extreme Values                                     \n",
       "----------------------------------------------------------------------------------------\n",
       "Count:                                 21      Extraction method:                     BM\n",
       "Type:                                high      Block size:             365 days 05:49:12\n",
       "========================================================================================\n",
       "                                         Model                                          \n",
       "----------------------------------------------------------------------------------------\n",
       "Model has not been fit to the extremes\n",
       "========================================================================================"
      ]
     },
     "execution_count": 14,
     "metadata": {},
     "output_type": "execute_result"
    }
   ],
   "source": [
    "model"
   ]
  },
  {
   "cell_type": "code",
   "execution_count": 15,
   "id": "8e091536",
   "metadata": {},
   "outputs": [
    {
     "data": {
      "text/plain": [
       "(<Figure size 768x480 with 1 Axes>,\n",
       " <AxesSubplot:xlabel='time_ISO8601', ylabel='swh [m]'>)"
      ]
     },
     "execution_count": 15,
     "metadata": {},
     "output_type": "execute_result"
    },
    {
     "data": {
      "image/png": "[encoded data removed]",
      "text/plain": [
       "<Figure size 768x480 with 1 Axes>"
      ]
     },
     "metadata": {},
     "output_type": "display_data"
    }
   ],
   "source": [
    "model.plot_extremes()"
   ]
  },
  {
   "cell_type": "code",
   "execution_count": null,
   "id": "ed78a7d2",
   "metadata": {},
   "outputs": [
    {
     "name": "stderr",
     "output_type": "stream",
     "text": [
      "/home/hoream/Documents/waveva-env/lib/python3.9/site-packages/scipy/stats/_continuous_distns.py:2492: RuntimeWarning: invalid value encountered in subtract\n",
      "  -pex2+logpex2-logex2)\n",
      "You must install the tqdm library to use progress indicators with emcee\n"
     ]
    }
   ],
   "source": [
    "model.fit_model(model='Emcee',progress=True, n_walkers=100000, n_samples=1000)"
   ]
  },
  {
   "cell_type": "code",
   "execution_count": 17,
   "id": "7941c372",
   "metadata": {},
   "outputs": [
    {
     "data": {
      "text/plain": [
       "(<Figure size 768x480 with 1 Axes>,\n",
       " <AxesSubplot:xlabel='Return period', ylabel='swh [m]'>)"
      ]
     },
     "execution_count": 17,
     "metadata": {},
     "output_type": "execute_result"
    },
    {
     "data": {
      "image/png": "[encoded data removed]",
      "text/plain": [
       "<Figure size 768x480 with 1 Axes>"
      ]
     },
     "metadata": {},
     "output_type": "display_data"
    }
   ],
   "source": [
    "model.plot_return_values(\n",
    "    return_period=np.logspace(0.01,2,100),\n",
    "    return_period_size=\"365.2425D\",\n",
    "    alpha=0.95\n",
    ")"
   ]
  },
  {
   "cell_type": "code",
   "execution_count": 18,
   "id": "8e74835a",
   "metadata": {},
   "outputs": [
    {
     "data": {
      "text/html": [
       "<div>\n",
       "<style scoped>\n",
       "    .dataframe tbody tr th:only-of-type {\n",
       "        vertical-align: middle;\n",
       "    }\n",
       "\n",
       "    .dataframe tbody tr th {\n",
       "        vertical-align: top;\n",
       "    }\n",
       "\n",
       "    .dataframe thead th {\n",
       "        text-align: right;\n",
       "    }\n",
       "</style>\n",
       "<table border=\"1\" class=\"dataframe\">\n",
       "  <thead>\n",
       "    <tr style=\"text-align: right;\">\n",
       "      <th></th>\n",
       "      <th>return value</th>\n",
       "      <th>lower ci</th>\n",
       "      <th>upper ci</th>\n",
       "    </tr>\n",
       "    <tr>\n",
       "      <th>return period</th>\n",
       "      <th></th>\n",
       "      <th></th>\n",
       "      <th></th>\n",
       "    </tr>\n",
       "  </thead>\n",
       "  <tbody>\n",
       "    <tr>\n",
       "      <th>1.0</th>\n",
       "      <td>-inf</td>\n",
       "      <td>NaN</td>\n",
       "      <td>NaN</td>\n",
       "    </tr>\n",
       "    <tr>\n",
       "      <th>2.0</th>\n",
       "      <td>2.359852</td>\n",
       "      <td>NaN</td>\n",
       "      <td>NaN</td>\n",
       "    </tr>\n",
       "    <tr>\n",
       "      <th>5.0</th>\n",
       "      <td>2.628180</td>\n",
       "      <td>NaN</td>\n",
       "      <td>NaN</td>\n",
       "    </tr>\n",
       "    <tr>\n",
       "      <th>10.0</th>\n",
       "      <td>2.689566</td>\n",
       "      <td>NaN</td>\n",
       "      <td>NaN</td>\n",
       "    </tr>\n",
       "    <tr>\n",
       "      <th>25.0</th>\n",
       "      <td>2.720784</td>\n",
       "      <td>NaN</td>\n",
       "      <td>NaN</td>\n",
       "    </tr>\n",
       "    <tr>\n",
       "      <th>50.0</th>\n",
       "      <td>2.730007</td>\n",
       "      <td>NaN</td>\n",
       "      <td>NaN</td>\n",
       "    </tr>\n",
       "    <tr>\n",
       "      <th>100.0</th>\n",
       "      <td>2.734268</td>\n",
       "      <td>NaN</td>\n",
       "      <td>NaN</td>\n",
       "    </tr>\n",
       "    <tr>\n",
       "      <th>250.0</th>\n",
       "      <td>2.736631</td>\n",
       "      <td>NaN</td>\n",
       "      <td>NaN</td>\n",
       "    </tr>\n",
       "    <tr>\n",
       "      <th>500.0</th>\n",
       "      <td>2.737358</td>\n",
       "      <td>NaN</td>\n",
       "      <td>NaN</td>\n",
       "    </tr>\n",
       "    <tr>\n",
       "      <th>1000.0</th>\n",
       "      <td>2.737699</td>\n",
       "      <td>NaN</td>\n",
       "      <td>NaN</td>\n",
       "    </tr>\n",
       "  </tbody>\n",
       "</table>\n",
       "</div>"
      ],
      "text/plain": [
       "               return value  lower ci  upper ci\n",
       "return period                                  \n",
       "1.0                    -inf       NaN       NaN\n",
       "2.0                2.359852       NaN       NaN\n",
       "5.0                2.628180       NaN       NaN\n",
       "10.0               2.689566       NaN       NaN\n",
       "25.0               2.720784       NaN       NaN\n",
       "50.0               2.730007       NaN       NaN\n",
       "100.0              2.734268       NaN       NaN\n",
       "250.0              2.736631       NaN       NaN\n",
       "500.0              2.737358       NaN       NaN\n",
       "1000.0             2.737699       NaN       NaN"
      ]
     },
     "execution_count": 18,
     "metadata": {},
     "output_type": "execute_result"
    }
   ],
   "source": [
    "summary = model.get_summary(\n",
    "    return_period=[1,2,5,10,25,50,100,250,500,1000]\n",
    ")\n",
    "summary"
   ]
  },
  {
   "cell_type": "code",
   "execution_count": 19,
   "id": "af5323c5",
   "metadata": {},
   "outputs": [
    {
     "data": {
      "text/plain": [
       "                           Univariate Extreme Value Analysis                            \n",
       "========================================================================================\n",
       "                                      Source Data                                       \n",
       "----------------------------------------------------------------------------------------\n",
       "Data label:                       swh [m]      Size:                             175,320\n",
       "Start:                       January 2001      End:                        December 2020\n",
       "========================================================================================\n",
       "                                     Extreme Values                                     \n",
       "----------------------------------------------------------------------------------------\n",
       "Count:                                 21      Extraction method:                     BM\n",
       "Type:                                high      Block size:             365 days 05:49:12\n",
       "========================================================================================\n",
       "                                         Model                                          \n",
       "----------------------------------------------------------------------------------------\n",
       "Model:                                MLE      Distribution:                  genextreme\n",
       "Log-likelihood:                    -3.984      AIC:                               15.379\n",
       "----------------------------------------------------------------------------------------\n",
       "Free parameters:                  c=1.091      Fixed parameters: All parameters are free\n",
       "                                loc=2.174                                               \n",
       "                              scale=0.615                                               \n",
       "========================================================================================"
      ]
     },
     "execution_count": 19,
     "metadata": {},
     "output_type": "execute_result"
    }
   ],
   "source": [
    "model"
   ]
  },
  {
   "cell_type": "code",
   "execution_count": 20,
   "id": "0e9d53ae",
   "metadata": {},
   "outputs": [
    {
     "name": "stdout",
     "output_type": "stream",
     "text": [
      "Help on function get_summary in module pyextremes.eva:\n",
      "\n",
      "get_summary(self, return_period, return_period_size: Union[str, pandas._libs.tslibs.timedeltas.Timedelta] = '365.2425D', alpha: Optional[float] = None, **kwargs) -> pandas.core.frame.DataFrame\n",
      "    Generate a pandas DataFrame with return values and confidence interval bounds.\n",
      "    \n",
      "    Parameters\n",
      "    ----------\n",
      "    return_period : array-like\n",
      "        Return period or 1D array of return periods.\n",
      "        Given as a multiple of `return_period_size`.\n",
      "    return_period_size : str or pandas.Timedelta, optional\n",
      "        Size of return periods (default='365.2425D').\n",
      "        If set to '30D', then a return period of 12\n",
      "        would be roughly equivalent to a 1 year return period (360 days).\n",
      "    alpha : float, optional\n",
      "        Width of confidence interval (0, 1).\n",
      "        If None (default), return None\n",
      "        for upper and lower confidence interval bounds.\n",
      "    kwargs\n",
      "        Model-specific keyword arguments.\n",
      "        If alpha is None, keyword arguments are ignored\n",
      "        (error still raised for unrecognized arguments).\n",
      "        MLE model:\n",
      "            n_samples : int, optional\n",
      "                Number of bootstrap samples used to estimate\n",
      "                confidence interval bounds (default=100).\n",
      "        Emcee model:\n",
      "            burn_in : int\n",
      "                Burn-in value (number of first steps to discard for each walker).\n",
      "    \n",
      "    Returns\n",
      "    -------\n",
      "    summary : pandas.DataFrame\n",
      "        DataFrame with return values and confidence interval bounds.\n",
      "\n"
     ]
    }
   ],
   "source": [
    "help(EVA.get_summary)"
   ]
  }
 ],
 "metadata": {
  "colab": {
   "collapsed_sections": [],
   "name": "waveva.ipynb",
   "provenance": []
  },
  "kernelspec": {
   "display_name": "Python 3 (ipykernel)",
   "language": "python",
   "name": "python3"
  },
  "language_info": {
   "codemirror_mode": {
    "name": "ipython",
    "version": 3
   },
   "file_extension": ".py",
   "mimetype": "text/x-python",
   "name": "python",
   "nbconvert_exporter": "python",
   "pygments_lexer": "ipython3",
   "version": "3.9.7"
  }
 },
 "nbformat": 4,
 "nbformat_minor": 5
}
